{
 "cells": [
  {
   "cell_type": "code",
   "execution_count": 4,
   "metadata": {},
   "outputs": [],
   "source": [
    "import tkinter as tk\n",
    "\n",
    "class Example(tk.Frame):\n",
    "    def __init__(self, parent):\n",
    "        tk.Frame.__init__(self, parent)\n",
    "        \n",
    "\n",
    "class Application:\n",
    "    def __init__(self):\n",
    "        self.root = tk.Tk()\n",
    "        self.frame = None\n",
    "        refreshButton = tk.Button(self.root, text=\"refresh\", command=self.refresh)\n",
    "        self.refresh()\n",
    "\n",
    "    def refresh(self):\n",
    "        if self.frame is not None:\n",
    "            self.frame.destroy()\n",
    "        self.frame = Example(self.root)\n",
    "        self.frame.grid(...)"
   ]
  },
  {
   "cell_type": "code",
   "execution_count": null,
   "metadata": {},
   "outputs": [],
   "source": []
  }
 ],
 "metadata": {
  "kernelspec": {
   "display_name": "Python 3",
   "language": "python",
   "name": "python3"
  },
  "language_info": {
   "codemirror_mode": {
    "name": "ipython",
    "version": 3
   },
   "file_extension": ".py",
   "mimetype": "text/x-python",
   "name": "python",
   "nbconvert_exporter": "python",
   "pygments_lexer": "ipython3",
   "version": "3.7.0"
  }
 },
 "nbformat": 4,
 "nbformat_minor": 2
}
